{
 "cells": [
  {
   "cell_type": "code",
   "execution_count": 1,
   "metadata": {},
   "outputs": [
    {
     "name": "stdout",
     "output_type": "stream",
     "text": [
      "Device: cuda\n",
      "Log-probs shape (time X batch X channels): 128x256x32\n",
      "Built-in CTC loss fwd 0.0037965774536132812 bwd 0.9368338584899902\n",
      "Custom CTC loss fwd 0.19373488426208496 bwd 0.1380176544189453\n",
      "Custom loss matches: True\n",
      "Grad matches: True\n",
      "CE grad matches: True\n"
     ]
    },
    {
     "data": {
      "image/png": "[encoded data removed]",
      "text/plain": [
       "<Figure size 432x288 with 2 Axes>"
      ]
     },
     "metadata": {
      "needs_background": "light"
     },
     "output_type": "display_data"
    }
   ],
   "source": [
    "import time\n",
    "import matplotlib.pyplot as plt\n",
    "\n",
    "import torch\n",
    "import torch.nn.functional as F\n",
    "\n",
    "import ctc\n",
    "\n",
    "T, B, C = 128, 256, 32\n",
    "t = T // 2 - 4\n",
    "blank = 0\n",
    "device = 'cuda'\n",
    "seed = 1\n",
    "atol = 1e-3\n",
    "for set_seed in [torch.manual_seed] + ([torch.cuda.manual_seed_all] if device == 'cuda' else []):\n",
    "\tset_seed(seed)\n",
    "tictoc = lambda: (device == 'cuda' and torch.cuda.synchronize()) or time.time()\n",
    "\n",
    "logits = torch.randn(T, B, C, device = device).requires_grad_()\n",
    "targets = torch.randint(blank + 1, C, (B, t), dtype = torch.long, device = device)\n",
    "input_lengths = torch.full((B,), T, dtype = torch.long, device = device)\n",
    "target_lengths = torch.full((B,), t, dtype = torch.long, device = device)\n",
    "log_probs = logits.log_softmax(dim = -1)\n",
    "\n",
    "print('Device:', device)\n",
    "print('Log-probs shape (time X batch X channels):', 'x'.join(map(str, log_probs.shape)))\n",
    "\n",
    "tic = tictoc()\n",
    "builtin_ctc = F.ctc_loss(log_probs, targets, input_lengths, target_lengths, blank = 0, reduction = 'none')\n",
    "toc = tictoc()\n",
    "builtin_ctc_grad, = torch.autograd.grad(builtin_ctc.sum(), logits, retain_graph = True)\n",
    "print('Built-in CTC loss', 'fwd', toc - tic, 'bwd', tictoc() - toc)\n",
    "\n",
    "tic = tictoc()\n",
    "custom_ctc = ctc.ctc_loss(log_probs, targets, input_lengths, target_lengths, blank = 0, reduction = 'none')\n",
    "toc = tictoc()\n",
    "custom_ctc_grad, = torch.autograd.grad(custom_ctc.sum(), logits, retain_graph = True)\n",
    "print('Custom CTC loss', 'fwd', toc - tic, 'bwd', tictoc() - toc)\n",
    "\n",
    "ce_alignment_targets = ctc.ctc_alignment_targets(log_probs, targets, input_lengths, target_lengths, blank = 0)\n",
    "ce_ctc = -ce_alignment_targets * log_probs\n",
    "ce_ctc_grad, = torch.autograd.grad(ce_ctc.sum(), logits, retain_graph = True)\n",
    "\n",
    "print('Custom loss matches:', torch.allclose(builtin_ctc, custom_ctc, atol = atol))\n",
    "print('Grad matches:', torch.allclose(builtin_ctc_grad, custom_ctc_grad, atol = atol))\n",
    "print('CE grad matches:', torch.allclose(builtin_ctc_grad, ce_ctc_grad, atol = atol))\n",
    "\n",
    "alignment = ctc.ctc_loss(log_probs, targets, input_lengths, target_lengths, blank = 0, reduction = 'none', alignment = True)\n",
    "a = alignment[:, 0, :target_lengths[0]]\n",
    "plt.subplot(211)\n",
    "plt.title('Input-Output Viterbi alignment')\n",
    "plt.imshow(a.t().cpu(), origin = 'lower', aspect = 'auto')\n",
    "plt.xlabel('Input steps')\n",
    "plt.ylabel('Output steps')\n",
    "plt.subplot(212)\n",
    "plt.title('CTC alignment targets')\n",
    "a = ce_alignment_targets[:, 0, :]\n",
    "plt.imshow(a.t().cpu(), origin = 'lower', aspect = 'auto')\n",
    "plt.xlabel('Input steps')\n",
    "plt.ylabel(f'Output symbols, blank {blank}')\n",
    "plt.subplots_adjust(hspace = 0.5)\n",
    "plt.savefig('alignment.png')"
   ]
  },
  {
   "cell_type": "code",
   "execution_count": null,
   "metadata": {},
   "outputs": [],
   "source": []
  },
  {
   "cell_type": "code",
   "execution_count": 12,
   "metadata": {},
   "outputs": [
    {
     "data": {
      "text/plain": [
       "tensor([60, 60, 60, 60, 60, 60, 60, 60, 60, 60, 60, 60, 60, 60, 60, 60, 60, 60,\n",
       "        60, 60, 60, 60, 60, 60, 60, 60, 60, 60, 60, 60, 60, 60, 60, 60, 60, 60,\n",
       "        60, 60, 60, 60, 60, 60, 60, 60, 60, 60, 60, 60, 60, 60, 60, 60, 60, 60,\n",
       "        60, 60, 60, 60, 60, 60, 60, 60, 60, 60, 60, 60, 60, 60, 60, 60, 60, 60,\n",
       "        60, 60, 60, 60, 60, 60, 60, 60, 60, 60, 60, 60, 60, 60, 60, 60, 60, 60,\n",
       "        60, 60, 60, 60, 60, 60, 60, 60, 60, 60, 60, 60, 60, 60, 60, 60, 60, 60,\n",
       "        60, 60, 60, 60, 60, 60, 60, 60, 60, 60, 60, 60, 60, 60, 60, 60, 60, 60,\n",
       "        60, 60, 60, 60, 60, 60, 60, 60, 60, 60, 60, 60, 60, 60, 60, 60, 60, 60,\n",
       "        60, 60, 60, 60, 60, 60, 60, 60, 60, 60, 60, 60, 60, 60, 60, 60, 60, 60,\n",
       "        60, 60, 60, 60, 60, 60, 60, 60, 60, 60, 60, 60, 60, 60, 60, 60, 60, 60,\n",
       "        60, 60, 60, 60, 60, 60, 60, 60, 60, 60, 60, 60, 60, 60, 60, 60, 60, 60,\n",
       "        60, 60, 60, 60, 60, 60, 60, 60, 60, 60, 60, 60, 60, 60, 60, 60, 60, 60,\n",
       "        60, 60, 60, 60, 60, 60, 60, 60, 60, 60, 60, 60, 60, 60, 60, 60, 60, 60,\n",
       "        60, 60, 60, 60, 60, 60, 60, 60, 60, 60, 60, 60, 60, 60, 60, 60, 60, 60,\n",
       "        60, 60, 60, 60], device='cuda:0')"
      ]
     },
     "execution_count": 12,
     "metadata": {},
     "output_type": "execute_result"
    }
   ],
   "source": [
    "target_lengths"
   ]
  },
  {
   "cell_type": "code",
   "execution_count": 10,
   "metadata": {},
   "outputs": [
    {
     "name": "stdout",
     "output_type": "stream",
     "text": [
      "60\n",
      "torch.Size([128, 256, 61])\n",
      "torch.Size([128, 60])\n",
      "torch.Size([128, 256, 32])\n"
     ]
    }
   ],
   "source": [
    "print(t)\n",
    "print(alignment.size())\n",
    "a = alignment[:, 0, :target_lengths[0]]\n",
    "print(a.size())\n",
    "print(logits.size())"
   ]
  },
  {
   "cell_type": "code",
   "execution_count": 2,
   "metadata": {},
   "outputs": [
    {
     "data": {
      "text/plain": [
       "tensor([[[-2.9628e-01,  2.6764e+00, -1.4085e-01,  ...,  1.8636e-01,\n",
       "          -1.5413e+00,  1.3425e+00],\n",
       "         [ 5.7348e-01,  2.7806e-02,  1.2966e-02,  ..., -8.5268e-01,\n",
       "           3.5594e-01, -1.3682e+00],\n",
       "         [-1.4363e+00, -1.5196e+00,  2.2909e-01,  ..., -4.7396e-01,\n",
       "          -1.3142e+00, -7.8856e-01],\n",
       "         ...,\n",
       "         [-1.4285e+00,  2.8120e-01, -1.5915e+00,  ..., -4.0258e-01,\n",
       "          -2.5593e-01, -3.3626e-02],\n",
       "         [ 4.7650e-01, -1.7647e+00, -4.2770e-01,  ..., -1.2805e+00,\n",
       "          -1.0275e+00, -5.2449e-01],\n",
       "         [ 7.1077e-01, -5.4442e-02, -1.6914e-01,  ...,  1.7871e+00,\n",
       "           2.7135e+00, -1.6598e-02]],\n",
       "\n",
       "        [[ 9.2974e-01,  5.7184e-01,  2.0154e-01,  ...,  7.0909e-01,\n",
       "          -1.4973e+00, -1.4601e+00],\n",
       "         [-7.4001e-01,  5.3839e-01, -4.7201e-01,  ...,  4.8079e-01,\n",
       "          -6.8517e-02,  3.3242e-01],\n",
       "         [ 1.3733e+00, -4.0550e-01, -1.4875e+00,  ...,  6.1299e-01,\n",
       "          -9.2470e-01, -1.7578e+00],\n",
       "         ...,\n",
       "         [-1.1940e+00,  8.7616e-01,  1.8284e-01,  ...,  1.8945e+00,\n",
       "          -2.9539e-01,  2.1218e-01],\n",
       "         [-4.5761e-01,  1.0407e+00, -8.6823e-01,  ..., -4.4782e-01,\n",
       "          -1.9708e-01,  5.1638e-01],\n",
       "         [ 1.0236e+00, -2.5254e-02, -9.2912e-01,  ..., -2.0944e-01,\n",
       "           7.3583e-02,  7.3436e-01]],\n",
       "\n",
       "        [[-1.5788e+00,  1.9967e-01, -2.5756e-01,  ...,  1.0934e+00,\n",
       "           9.6230e-01,  1.6763e-01],\n",
       "         [-5.9701e-01, -1.0396e-01,  3.7110e-01,  ..., -4.6018e-01,\n",
       "           2.3063e-01, -1.6801e+00],\n",
       "         [ 8.5386e-01, -9.6969e-01, -2.1026e+00,  ..., -3.7424e-02,\n",
       "           1.6268e+00,  3.8866e-01],\n",
       "         ...,\n",
       "         [-1.5202e+00,  7.3763e-01,  1.0527e-01,  ..., -2.7162e-01,\n",
       "           2.4003e+00,  4.9508e-01],\n",
       "         [ 8.0886e-01,  3.7876e-01, -8.0072e-01,  ...,  9.8467e-02,\n",
       "          -4.5853e-01, -7.0725e-01],\n",
       "         [ 9.5299e-01, -4.1994e-01,  7.4806e-01,  ...,  1.5337e+00,\n",
       "          -1.1810e+00, -2.1882e-01]],\n",
       "\n",
       "        ...,\n",
       "\n",
       "        [[-1.5903e+00, -4.2180e-01,  1.4018e+00,  ...,  1.1982e-01,\n",
       "          -1.0643e+00, -3.7255e-01],\n",
       "         [ 1.0046e+00,  2.0747e+00, -1.0023e+00,  ..., -1.1811e+00,\n",
       "           1.5657e+00,  1.3232e+00],\n",
       "         [-1.3735e-01,  1.0598e+00,  1.1584e+00,  ..., -3.9633e-01,\n",
       "          -2.1740e-01,  1.9568e+00],\n",
       "         ...,\n",
       "         [-4.4645e-01, -5.8894e-01,  9.7472e-01,  ..., -7.2676e-01,\n",
       "          -1.2164e+00,  1.2033e+00],\n",
       "         [-1.6661e+00,  7.8248e-01,  1.2085e+00,  ...,  9.4207e-01,\n",
       "           1.7312e+00, -5.5448e-01],\n",
       "         [-5.8624e-02, -7.8562e-01,  3.5753e-01,  ..., -1.3720e+00,\n",
       "           1.0548e+00, -2.1704e+00]],\n",
       "\n",
       "        [[-8.4077e-01, -8.8400e-01,  2.5499e-01,  ..., -4.2082e-01,\n",
       "          -1.2168e+00, -1.2670e+00],\n",
       "         [ 1.0641e+00,  1.8033e+00,  1.3352e+00,  ..., -2.1195e+00,\n",
       "          -3.3957e-01,  5.3417e-01],\n",
       "         [ 3.5464e-01,  1.0333e-01,  5.0904e-01,  ...,  4.4004e-01,\n",
       "           8.4296e-01,  2.9860e-01],\n",
       "         ...,\n",
       "         [-1.3739e+00,  1.7536e-01, -2.8547e+00,  ..., -7.9308e-01,\n",
       "           8.6692e-01, -1.9954e-01],\n",
       "         [ 2.7209e-01, -2.0878e-03,  4.9024e-01,  ..., -8.4826e-01,\n",
       "          -4.3352e-01, -2.0093e-02],\n",
       "         [ 1.9444e-01,  2.2613e-01, -9.1228e-01,  ..., -1.6790e+00,\n",
       "           6.6086e-01,  2.4788e-01]],\n",
       "\n",
       "        [[ 5.8359e-01, -5.1014e-01,  2.1751e-01,  ...,  7.0486e-02,\n",
       "          -9.5472e-01, -2.7304e-01],\n",
       "         [-1.1601e+00, -5.9158e-01, -5.6269e-01,  ..., -3.3130e-01,\n",
       "          -1.1187e+00,  1.6143e+00],\n",
       "         [-4.6655e-01,  5.0978e-01,  1.4962e+00,  ...,  5.7610e-01,\n",
       "          -1.0451e-01,  2.8317e-02],\n",
       "         ...,\n",
       "         [-2.0438e-01, -8.1285e-01,  8.6266e-01,  ..., -3.3318e-01,\n",
       "           8.8094e-01, -1.6974e-01],\n",
       "         [-1.2391e+00, -1.6575e+00, -2.1321e+00,  ..., -6.0040e-01,\n",
       "           1.5735e+00, -1.1532e+00],\n",
       "         [ 1.3154e+00,  9.9696e-01,  6.2095e-02,  ..., -4.0701e-01,\n",
       "           5.3686e-01,  6.0711e-01]]], device='cuda:0', requires_grad=True)"
      ]
     },
     "execution_count": 2,
     "metadata": {},
     "output_type": "execute_result"
    }
   ],
   "source": [
    "logits #= torch.randn(T, B, C, device = device).requires_grad_()\n",
    "# torch.randn(*size, out=None, dtype=None, layout=torch.strided, device=None, requires_grad=False) → Tensor"
   ]
  },
  {
   "cell_type": "code",
   "execution_count": 3,
   "metadata": {},
   "outputs": [
    {
     "data": {
      "text/plain": [
       "tensor([[12,  5, 17,  ...,  8, 21,  1],\n",
       "        [ 3, 22,  2,  ..., 15, 20, 26],\n",
       "        [10, 19, 23,  ..., 28, 18,  1],\n",
       "        ...,\n",
       "        [13, 27, 28,  ..., 21, 31, 30],\n",
       "        [19, 24, 15,  ...,  2, 19, 12],\n",
       "        [ 4,  5, 21,  ..., 23,  9, 13]], device='cuda:0')"
      ]
     },
     "execution_count": 3,
     "metadata": {},
     "output_type": "execute_result"
    }
   ],
   "source": [
    "targets #= torch.randint(blank + 1, C, (B, t), dtype = torch.long, device = device)\n",
    "# randint(low=0, high, size, *, generator=None, out=None,"
   ]
  },
  {
   "cell_type": "code",
   "execution_count": 13,
   "metadata": {},
   "outputs": [
    {
     "name": "stdout",
     "output_type": "stream",
     "text": [
      "torch.Size([256, 60])\n"
     ]
    }
   ],
   "source": [
    "print(targets.size())"
   ]
  },
  {
   "cell_type": "code",
   "execution_count": 14,
   "metadata": {},
   "outputs": [
    {
     "data": {
      "text/plain": [
       "tensor([[ 8.4674e-01,  7.6278e-01,  1.1277e-01,  ...,  1.0386e-02,\n",
       "          5.4665e-02,  1.3087e-01],\n",
       "        [ 5.1707e-06,  7.0781e-07, -5.5879e-07,  ...,  4.8860e-02,\n",
       "          1.4171e-01,  8.6913e-01],\n",
       "        [ 3.0920e-07,  4.8801e-07, -3.5390e-07,  ...,  8.3447e-07,\n",
       "          2.4773e-07,  1.4901e-08],\n",
       "        ...,\n",
       "        [ 4.2841e-07,  8.1211e-07, -1.3672e-06,  ...,  2.3097e-07,\n",
       "          1.2666e-07,  1.4901e-08],\n",
       "        [ 7.6136e-08,  8.9407e-08, -1.1995e-06,  ...,  7.0781e-08,\n",
       "          5.6811e-08,  5.5879e-09],\n",
       "        [ 1.3635e-06,  9.3132e-08, -5.4017e-07,  ...,  1.4156e-07,\n",
       "          5.4017e-08,  9.3132e-09]])"
      ]
     },
     "execution_count": 14,
     "metadata": {},
     "output_type": "execute_result"
    }
   ],
   "source": [
    "a = ce_alignment_targets[:, 0, :]\n",
    "a.cpu().t()\n"
   ]
  },
  {
   "cell_type": "code",
   "execution_count": 31,
   "metadata": {},
   "outputs": [
    {
     "name": "stdout",
     "output_type": "stream",
     "text": [
      "tensor([[0., 0., 1., 1., 0., 0.],\n",
      "        [0., 0., 0., 0., 1., 1.],\n",
      "        [0., 0., 0., 0., 0., 0.],\n",
      "        [0., 0., 0., 0., 0., 0.]])\n",
      "tensor([[ 8e-01,  8e-01,  1e-01,  4e-01,  4e-01,  3e-01],\n",
      "        [ 5e-06,  7e-07, -6e-07, -7e-07, -3e-06, -2e-06],\n",
      "        [ 3e-07,  5e-07, -4e-07, -4e-07, -3e-07, -3e-07],\n",
      "        [ 2e-07,  1e-07, -2e-07, -2e-06, -7e-07, -2e-06],\n",
      "        [ 5e-07,  2e-07, -6e-07, -6e-07, -3e-06, -4e-06],\n",
      "        [ 3e-07,  7e-02,  4e-02,  2e-01,  4e-01,  5e-01],\n",
      "        [ 8e-08,  1e-07, -4e-07, -1e-06, -9e-07, -1e-06],\n",
      "        [ 4e-06,  5e-07, -2e-07, -7e-08, -1e-06, -6e-07],\n",
      "        [ 3e-07,  7e-07, -1e-07, -9e-07, -3e-07, -7e-07],\n",
      "        [ 2e-08,  5e-07, -3e-06, -2e-06, -5e-06, -1e-06],\n",
      "        [ 2e-07,  2e-07, -5e-07, -7e-07, -6e-07, -3e-07],\n",
      "        [ 7e-07,  6e-07, -8e-07, -2e-07, -2e-07, -1e-06],\n",
      "        [ 2e-01,  2e-01,  8e-01,  4e-01,  5e-02,  2e-03],\n",
      "        [ 3e-07,  9e-08, -6e-07, -1e-07, -3e-07, -9e-07]])\n",
      "tensor([12,  3, 10,  7, 28], device='cuda:0')\n"
     ]
    },
    {
     "data": {
      "image/png": "[encoded data removed]",
      "text/plain": [
       "<Figure size 432x288 with 2 Axes>"
      ]
     },
     "metadata": {
      "needs_background": "light"
     },
     "output_type": "display_data"
    }
   ],
   "source": [
    "alignment = ctc.ctc_loss(log_probs, targets, input_lengths, target_lengths, blank = 0, reduction = 'none', alignment = True)\n",
    "a = alignment[:, 0, :target_lengths[0]]\n",
    "plt.subplot(211)\n",
    "plt.title('Input-Output Viterbi alignment')\n",
    "plt.imshow(a.t().cpu()[:4,:6], origin = 'lower', aspect = 'auto')\n",
    "print(a.t().cpu()[:4,:6])\n",
    "plt.xlabel('Input steps')\n",
    "plt.ylabel('Output steps')\n",
    "plt.subplot(212)\n",
    "plt.title('CTC alignment targets')\n",
    "a = ce_alignment_targets[:, 0, :]\n",
    "plt.imshow(a.t().cpu()[:,:6], origin = 'lower', aspect = 'auto')\n",
    "plt.xlabel('Input steps')\n",
    "plt.ylabel(f'Output symbols, blank {blank}')\n",
    "plt.subplots_adjust(hspace = 0.5)\n",
    "plt.savefig('alignment.png')\n",
    "torch.set_printoptions(precision=0)\n",
    "print(a.t().cpu()[:14,:6])\n",
    "print(targets[:5,0])"
   ]
  },
  {
   "cell_type": "code",
   "execution_count": null,
   "metadata": {},
   "outputs": [],
   "source": [
    "Test a small set"
   ]
  },
  {
   "cell_type": "code",
   "execution_count": 32,
   "metadata": {},
   "outputs": [],
   "source": [
    "probs_seq1 = [[\n",
    "            0.06390443, 0.21124858, 0.27323887, 0.06870235, 0.0361254,\n",
    "            0.18184413, 0.16493624\n",
    "        ], [\n",
    "            0.03309247, 0.22866108, 0.24390638, 0.09699597, 0.31895462,\n",
    "            0.0094893, 0.06890021\n",
    "        ], [\n",
    "            0.218104, 0.19992557, 0.18245131, 0.08503348, 0.14903535,\n",
    "            0.08424043, 0.08120984\n",
    "        ], [\n",
    "            0.12094152, 0.19162472, 0.01473646, 0.28045061, 0.24246305,\n",
    "            0.05206269, 0.09772094\n",
    "        ], [\n",
    "            0.1333387, 0.00550838, 0.00301669, 0.21745861, 0.20803985,\n",
    "            0.41317442, 0.01946335\n",
    "        ], [\n",
    "            0.16468227, 0.1980699, 0.1906545, 0.18963251, 0.19860937,\n",
    "            0.04377724, 0.01457421\n",
    "        ]]"
   ]
  },
  {
   "cell_type": "code",
   "execution_count": 57,
   "metadata": {},
   "outputs": [
    {
     "name": "stdout",
     "output_type": "stream",
     "text": [
      "torch.Size([6, 7])\n",
      "torch.Size([6, 1, 7])\n"
     ]
    }
   ],
   "source": [
    "print(torch.Tensor(probs_seq1).size())\n",
    "print(torch.reshape(torch.Tensor(probs_seq1), (6,1,7)).size())"
   ]
  },
  {
   "cell_type": "code",
   "execution_count": 36,
   "metadata": {},
   "outputs": [
    {
     "data": {
      "text/plain": [
       "torch.Size([6, 1, 7])"
      ]
     },
     "execution_count": 36,
     "metadata": {},
     "output_type": "execute_result"
    }
   ],
   "source": [
    "logits.size()"
   ]
  },
  {
   "cell_type": "code",
   "execution_count": 62,
   "metadata": {},
   "outputs": [
    {
     "name": "stdout",
     "output_type": "stream",
     "text": [
      "Device: cuda\n",
      "Log-probs shape (time X batch X channels): 6x1x7\n",
      "Built-in CTC loss fwd 0.0006482601165771484 bwd 0.0009298324584960938\n",
      "Custom CTC loss fwd 0.003294706344604492 bwd 0.00738072395324707\n",
      "Custom loss matches: True\n",
      "Grad matches: True\n",
      "CE grad matches: True\n",
      "tensor([[1., 0., 0., 0., 0., 0.],\n",
      "        [0., 1., 1., 1., 0., 0.],\n",
      "        [0., 0., 0., 0., 1., 0.],\n",
      "        [0., 0., 0., 0., 0., 1.]], dtype=torch.float64)\n",
      "tensor([[ 9.10e-02,  4.07e-02,  3.12e-01,  2.21e-01,  5.52e-02,  9.16e-02],\n",
      "        [-1.39e-16,  2.78e-17,  1.11e-16,  0.00e+00, -8.67e-19, -1.11e-16],\n",
      "        [ 9.09e-01,  4.64e-01,  1.25e-01,  0.00e+00, -4.34e-19, -1.11e-16],\n",
      "        [-5.55e-17,  0.00e+00,  4.16e-17,  0.00e+00, -2.78e-17, -1.11e-16],\n",
      "        [-2.78e-17,  4.96e-01,  4.27e-01,  5.72e-01,  1.67e-01,  9.08e-01],\n",
      "        [-1.39e-16,  0.00e+00,  1.36e-01,  2.07e-01,  7.78e-01, -2.78e-17],\n",
      "        [-1.11e-16,  0.00e+00,  4.16e-17,  0.00e+00, -3.47e-18, -8.67e-18]],\n",
      "       dtype=torch.float64)\n",
      "tensor([2], device='cuda:0')\n",
      "tensor([[[-2.75, -1.55, -1.30, -2.68, -3.32, -1.70, -1.80]],\n",
      "\n",
      "        [[-3.41, -1.48, -1.41, -2.33, -1.14, -4.66, -2.68]],\n",
      "\n",
      "        [[-1.52, -1.61, -1.70, -2.46, -1.90, -2.47, -2.51]],\n",
      "\n",
      "        [[-2.11, -1.65, -4.22, -1.27, -1.42, -2.96, -2.33]],\n",
      "\n",
      "        [[-2.01, -5.20, -5.80, -1.53, -1.57, -0.88, -3.94]],\n",
      "\n",
      "        [[-1.80, -1.62, -1.66, -1.66, -1.62, -3.13, -4.23]]], device='cuda:0',\n",
      "       dtype=torch.float64, requires_grad=True)\n"
     ]
    },
    {
     "data": {
      "image/png": "[encoded data removed]",
      "text/plain": [
       "<Figure size 432x288 with 2 Axes>"
      ]
     },
     "metadata": {
      "needs_background": "light"
     },
     "output_type": "display_data"
    }
   ],
   "source": [
    "import time\n",
    "import matplotlib.pyplot as plt\n",
    "\n",
    "import torch\n",
    "import torch.nn.functional as F\n",
    "\n",
    "import ctc\n",
    "\n",
    "T, B, C = 6, 1, 7\n",
    "t = 4\n",
    "blank = 0\n",
    "device = 'cuda'\n",
    "seed = 1\n",
    "atol = 1e-3\n",
    "for set_seed in [torch.manual_seed] + ([torch.cuda.manual_seed_all] if device == 'cuda' else []):\n",
    "\tset_seed(seed)\n",
    "tictoc = lambda: (device == 'cuda' and torch.cuda.synchronize()) or time.time()\n",
    "\n",
    "# logits = torch.randn(T, B, C, device = device).requires_grad_()\n",
    "import numpy\n",
    "logits = torch.reshape(torch.as_tensor(numpy.array(numpy.log(probs_seq1)),device = device), (6,1,7)).requires_grad_()\n",
    "\n",
    "# targets = torch.randint(blank + 1, C, (B, t), dtype = torch.long, device = device)\n",
    "targets = torch.reshape(torch.as_tensor(numpy.array([2,4,5,4]), dtype = torch.long, device = device), (B, t))\n",
    "\n",
    "\n",
    "\n",
    "input_lengths = torch.full((B,), T, dtype = torch.long, device = device)\n",
    "target_lengths = torch.full((B,), t, dtype = torch.long, device = device)\n",
    "log_probs = logits.log_softmax(dim = -1)\n",
    "\n",
    "print('Device:', device)\n",
    "print('Log-probs shape (time X batch X channels):', 'x'.join(map(str, log_probs.shape)))\n",
    "\n",
    "tic = tictoc()\n",
    "builtin_ctc = F.ctc_loss(log_probs, targets, input_lengths, target_lengths, blank = 0, reduction = 'none')\n",
    "toc = tictoc()\n",
    "builtin_ctc_grad, = torch.autograd.grad(builtin_ctc.sum(), logits, retain_graph = True)\n",
    "print('Built-in CTC loss', 'fwd', toc - tic, 'bwd', tictoc() - toc)\n",
    "\n",
    "tic = tictoc()\n",
    "custom_ctc = ctc.ctc_loss(log_probs, targets, input_lengths, target_lengths, blank = 0, reduction = 'none')\n",
    "toc = tictoc()\n",
    "custom_ctc_grad, = torch.autograd.grad(custom_ctc.sum(), logits, retain_graph = True)\n",
    "print('Custom CTC loss', 'fwd', toc - tic, 'bwd', tictoc() - toc)\n",
    "\n",
    "ce_alignment_targets = ctc.ctc_alignment_targets(log_probs, targets, input_lengths, target_lengths, blank = 0)\n",
    "ce_ctc = -ce_alignment_targets * log_probs\n",
    "ce_ctc_grad, = torch.autograd.grad(ce_ctc.sum(), logits, retain_graph = True)\n",
    "\n",
    "print('Custom loss matches:', torch.allclose(builtin_ctc, custom_ctc, atol = atol))\n",
    "print('Grad matches:', torch.allclose(builtin_ctc_grad, custom_ctc_grad, atol = atol))\n",
    "print('CE grad matches:', torch.allclose(builtin_ctc_grad, ce_ctc_grad, atol = atol))\n",
    "\n",
    "alignment = ctc.ctc_loss(log_probs, targets, input_lengths, target_lengths, blank = 0, reduction = 'none', alignment = True)\n",
    "a = alignment[:, 0, :target_lengths[0]]\n",
    "print(a.t().cpu())\n",
    "plt.subplot(211)\n",
    "plt.title('Input-Output Viterbi alignment')\n",
    "plt.imshow(a.t().cpu(), origin = 'lower', aspect = 'auto')\n",
    "plt.xlabel('Input steps')\n",
    "plt.ylabel('Output steps')\n",
    "plt.subplot(212)\n",
    "plt.title('CTC alignment targets')\n",
    "a = ce_alignment_targets[:, 0, :]\n",
    "plt.imshow(a.t().cpu(), origin = 'lower', aspect = 'auto')\n",
    "plt.xlabel('Input steps')\n",
    "plt.ylabel(f'Output symbols, blank {blank}')\n",
    "plt.subplots_adjust(hspace = 0.5)\n",
    "plt.savefig('alignment.png')\n",
    "torch.set_printoptions(precision=2)\n",
    "print(a.t().cpu())\n",
    "print(targets[:,0])\n",
    "print(logits)"
   ]
  },
  {
   "cell_type": "code",
   "execution_count": 63,
   "metadata": {},
   "outputs": [
    {
     "name": "stdout",
     "output_type": "stream",
     "text": [
      "Device: cuda\n",
      "Log-probs shape (time X batch X channels): 6x1x7\n",
      "Built-in CTC loss fwd 0.0009300708770751953 bwd 0.0009093284606933594\n",
      "Custom CTC loss fwd 0.0031309127807617188 bwd 0.007601261138916016\n",
      "Custom loss matches: True\n",
      "Grad matches: True\n",
      "CE grad matches: True\n",
      "tensor([[1., 0., 0., 0., 0., 0.],\n",
      "        [0., 1., 0., 0., 0., 0.],\n",
      "        [0., 0., 1., 0., 0., 0.],\n",
      "        [0., 0., 0., 1., 0., 0.],\n",
      "        [0., 0., 0., 0., 1., 0.],\n",
      "        [0., 0., 0., 0., 0., 1.]], dtype=torch.float64)\n",
      "tensor([[-6.9e-17, -5.6e-17,  1.0e+00, -1.4e-16, -8.3e-17, -1.1e-16],\n",
      "        [-2.2e-16, -3.9e-16, -2.2e-16, -2.2e-16, -3.5e-18, -1.1e-16],\n",
      "        [ 1.0e+00, -4.2e-16, -1.9e-16, -1.6e-17, -2.2e-18, -1.1e-16],\n",
      "        [-6.9e-17, -1.7e-16, -9.7e-17,  1.0e+00, -1.4e-16, -1.1e-16],\n",
      "        [-4.2e-17,  1.0e+00, -1.7e-16, -2.8e-16, -1.4e-16,  1.0e+00],\n",
      "        [-1.9e-16, -1.6e-17, -9.7e-17, -5.6e-17,  1.0e+00, -2.8e-17],\n",
      "        [-1.9e-16, -1.2e-16, -8.3e-17, -1.1e-16, -1.4e-17, -8.7e-18]],\n",
      "       dtype=torch.float64)\n",
      "tensor([2], device='cuda:0')\n",
      "tensor([[[-2.8, -1.6, -1.3, -2.7, -3.3, -1.7, -1.8]],\n",
      "\n",
      "        [[-3.4, -1.5, -1.4, -2.3, -1.1, -4.7, -2.7]],\n",
      "\n",
      "        [[-1.5, -1.6, -1.7, -2.5, -1.9, -2.5, -2.5]],\n",
      "\n",
      "        [[-2.1, -1.7, -4.2, -1.3, -1.4, -3.0, -2.3]],\n",
      "\n",
      "        [[-2.0, -5.2, -5.8, -1.5, -1.6, -0.9, -3.9]],\n",
      "\n",
      "        [[-1.8, -1.6, -1.7, -1.7, -1.6, -3.1, -4.2]]], device='cuda:0',\n",
      "       dtype=torch.float64, requires_grad=True)\n"
     ]
    },
    {
     "data": {
      "image/png": "[encoded data removed]",
      "text/plain": [
       "<Figure size 432x288 with 2 Axes>"
      ]
     },
     "metadata": {
      "needs_background": "light"
     },
     "output_type": "display_data"
    }
   ],
   "source": [
    "import time\n",
    "import matplotlib.pyplot as plt\n",
    "\n",
    "import torch\n",
    "import torch.nn.functional as F\n",
    "\n",
    "import ctc\n",
    "\n",
    "T, B, C = 6, 1, 7\n",
    "t = 6\n",
    "blank = 0\n",
    "device = 'cuda'\n",
    "seed = 1\n",
    "atol = 1e-3\n",
    "for set_seed in [torch.manual_seed] + ([torch.cuda.manual_seed_all] if device == 'cuda' else []):\n",
    "\tset_seed(seed)\n",
    "tictoc = lambda: (device == 'cuda' and torch.cuda.synchronize()) or time.time()\n",
    "\n",
    "# logits = torch.randn(T, B, C, device = device).requires_grad_()\n",
    "import numpy\n",
    "logits = torch.reshape(torch.as_tensor(numpy.array(numpy.log(probs_seq1)),device = device), (6,1,7)).requires_grad_()\n",
    "\n",
    "# targets = torch.randint(blank + 1, C, (B, t), dtype = torch.long, device = device)\n",
    "targets = torch.reshape(torch.as_tensor(numpy.array([2,4,0,3,5,4]), dtype = torch.long, device = device), (B, t))\n",
    "\n",
    "\n",
    "\n",
    "input_lengths = torch.full((B,), T, dtype = torch.long, device = device)\n",
    "target_lengths = torch.full((B,), t, dtype = torch.long, device = device)\n",
    "log_probs = logits.log_softmax(dim = -1)\n",
    "\n",
    "print('Device:', device)\n",
    "print('Log-probs shape (time X batch X channels):', 'x'.join(map(str, log_probs.shape)))\n",
    "\n",
    "tic = tictoc()\n",
    "builtin_ctc = F.ctc_loss(log_probs, targets, input_lengths, target_lengths, blank = 0, reduction = 'none')\n",
    "toc = tictoc()\n",
    "builtin_ctc_grad, = torch.autograd.grad(builtin_ctc.sum(), logits, retain_graph = True)\n",
    "print('Built-in CTC loss', 'fwd', toc - tic, 'bwd', tictoc() - toc)\n",
    "\n",
    "tic = tictoc()\n",
    "custom_ctc = ctc.ctc_loss(log_probs, targets, input_lengths, target_lengths, blank = 0, reduction = 'none')\n",
    "toc = tictoc()\n",
    "custom_ctc_grad, = torch.autograd.grad(custom_ctc.sum(), logits, retain_graph = True)\n",
    "print('Custom CTC loss', 'fwd', toc - tic, 'bwd', tictoc() - toc)\n",
    "\n",
    "ce_alignment_targets = ctc.ctc_alignment_targets(log_probs, targets, input_lengths, target_lengths, blank = 0)\n",
    "ce_ctc = -ce_alignment_targets * log_probs\n",
    "ce_ctc_grad, = torch.autograd.grad(ce_ctc.sum(), logits, retain_graph = True)\n",
    "\n",
    "print('Custom loss matches:', torch.allclose(builtin_ctc, custom_ctc, atol = atol))\n",
    "print('Grad matches:', torch.allclose(builtin_ctc_grad, custom_ctc_grad, atol = atol))\n",
    "print('CE grad matches:', torch.allclose(builtin_ctc_grad, ce_ctc_grad, atol = atol))\n",
    "\n",
    "alignment = ctc.ctc_loss(log_probs, targets, input_lengths, target_lengths, blank = 0, reduction = 'none', alignment = True)\n",
    "a = alignment[:, 0, :target_lengths[0]]\n",
    "print(a.t().cpu())\n",
    "plt.subplot(211)\n",
    "plt.title('Input-Output Viterbi alignment')\n",
    "plt.imshow(a.t().cpu(), origin = 'lower', aspect = 'auto')\n",
    "plt.xlabel('Input steps')\n",
    "plt.ylabel('Output steps')\n",
    "plt.subplot(212)\n",
    "plt.title('CTC alignment targets')\n",
    "a = ce_alignment_targets[:, 0, :]\n",
    "plt.imshow(a.t().cpu(), origin = 'lower', aspect = 'auto')\n",
    "plt.xlabel('Input steps')\n",
    "plt.ylabel(f'Output symbols, blank {blank}')\n",
    "plt.subplots_adjust(hspace = 0.5)\n",
    "plt.savefig('alignment.png')\n",
    "torch.set_printoptions(precision=1)\n",
    "print(a.t().cpu())\n",
    "print(targets[:,0])\n",
    "print(logits)"
   ]
  },
  {
   "cell_type": "code",
   "execution_count": 64,
   "metadata": {},
   "outputs": [
    {
     "name": "stdout",
     "output_type": "stream",
     "text": [
      "Device: cuda\n",
      "Log-probs shape (time X batch X channels): 6x1x7\n",
      "Built-in CTC loss fwd 0.0009298324584960938 bwd 0.0007643699645996094\n",
      "Custom CTC loss fwd 0.003148794174194336 bwd 0.007570981979370117\n",
      "Custom loss matches: True\n",
      "Grad matches: True\n",
      "CE grad matches: True\n",
      "tensor([[1., 1., 0., 0., 0., 0.],\n",
      "        [0., 0., 1., 1., 0., 0.],\n",
      "        [0., 0., 0., 0., 0., 1.]], dtype=torch.float64)\n",
      "tensor([[ 1.16e-01,  5.27e-02,  2.86e-01,  3.25e-01,  9.30e-01,  1.06e-01],\n",
      "        [ 1.94e-16,  3.54e-01,  4.98e-01,  6.40e-01,  3.31e-02, -1.39e-16],\n",
      "        [ 8.84e-01,  5.94e-01,  2.16e-01,  3.52e-02,  3.71e-02,  8.94e-01],\n",
      "        [ 6.94e-17,  6.94e-17,  4.16e-17, -5.55e-17, -1.39e-16, -1.39e-16],\n",
      "        [ 3.47e-17,  2.22e-16,  8.33e-17, -2.78e-17, -1.39e-16, -1.39e-16],\n",
      "        [ 1.67e-16,  6.94e-18,  4.16e-17, -6.94e-18, -2.78e-16, -2.78e-17],\n",
      "        [ 1.67e-16,  5.55e-17,  4.16e-17, -1.39e-17, -1.39e-17, -1.04e-17]],\n",
      "       dtype=torch.float64)\n",
      "tensor([2], device='cuda:0')\n",
      "tensor([[[-2.75, -1.55, -1.30, -2.68, -3.32, -1.70, -1.80]],\n",
      "\n",
      "        [[-3.41, -1.48, -1.41, -2.33, -1.14, -4.66, -2.68]],\n",
      "\n",
      "        [[-1.52, -1.61, -1.70, -2.46, -1.90, -2.47, -2.51]],\n",
      "\n",
      "        [[-2.11, -1.65, -4.22, -1.27, -1.42, -2.96, -2.33]],\n",
      "\n",
      "        [[-2.01, -5.20, -5.80, -1.53, -1.57, -0.88, -3.94]],\n",
      "\n",
      "        [[-1.80, -1.62, -1.66, -1.66, -1.62, -3.13, -4.23]]], device='cuda:0',\n",
      "       dtype=torch.float64, requires_grad=True)\n"
     ]
    },
    {
     "data": {
      "image/png": "[encoded data removed]",
      "text/plain": [
       "<Figure size 432x288 with 2 Axes>"
      ]
     },
     "metadata": {
      "needs_background": "light"
     },
     "output_type": "display_data"
    }
   ],
   "source": [
    "import time\n",
    "import matplotlib.pyplot as plt\n",
    "\n",
    "import torch\n",
    "import torch.nn.functional as F\n",
    "\n",
    "import ctc\n",
    "\n",
    "T, B, C = 6, 1, 7\n",
    "t = 3\n",
    "blank = 0\n",
    "device = 'cuda'\n",
    "seed = 1\n",
    "atol = 1e-3\n",
    "for set_seed in [torch.manual_seed] + ([torch.cuda.manual_seed_all] if device == 'cuda' else []):\n",
    "\tset_seed(seed)\n",
    "tictoc = lambda: (device == 'cuda' and torch.cuda.synchronize()) or time.time()\n",
    "\n",
    "# logits = torch.randn(T, B, C, device = device).requires_grad_()\n",
    "import numpy\n",
    "logits = torch.reshape(torch.as_tensor(numpy.array(numpy.log(probs_seq1)),device = device), (6,1,7)).requires_grad_()\n",
    "\n",
    "# targets = torch.randint(blank + 1, C, (B, t), dtype = torch.long, device = device)\n",
    "targets = torch.reshape(torch.as_tensor(numpy.array([2,1,2]), dtype = torch.long, device = device), (B, t))\n",
    "\n",
    "\n",
    "\n",
    "input_lengths = torch.full((B,), T, dtype = torch.long, device = device)\n",
    "target_lengths = torch.full((B,), t, dtype = torch.long, device = device)\n",
    "log_probs = logits.log_softmax(dim = -1)\n",
    "\n",
    "print('Device:', device)\n",
    "print('Log-probs shape (time X batch X channels):', 'x'.join(map(str, log_probs.shape)))\n",
    "\n",
    "tic = tictoc()\n",
    "builtin_ctc = F.ctc_loss(log_probs, targets, input_lengths, target_lengths, blank = 0, reduction = 'none')\n",
    "toc = tictoc()\n",
    "builtin_ctc_grad, = torch.autograd.grad(builtin_ctc.sum(), logits, retain_graph = True)\n",
    "print('Built-in CTC loss', 'fwd', toc - tic, 'bwd', tictoc() - toc)\n",
    "\n",
    "tic = tictoc()\n",
    "custom_ctc = ctc.ctc_loss(log_probs, targets, input_lengths, target_lengths, blank = 0, reduction = 'none')\n",
    "toc = tictoc()\n",
    "custom_ctc_grad, = torch.autograd.grad(custom_ctc.sum(), logits, retain_graph = True)\n",
    "print('Custom CTC loss', 'fwd', toc - tic, 'bwd', tictoc() - toc)\n",
    "\n",
    "ce_alignment_targets = ctc.ctc_alignment_targets(log_probs, targets, input_lengths, target_lengths, blank = 0)\n",
    "ce_ctc = -ce_alignment_targets * log_probs\n",
    "ce_ctc_grad, = torch.autograd.grad(ce_ctc.sum(), logits, retain_graph = True)\n",
    "\n",
    "print('Custom loss matches:', torch.allclose(builtin_ctc, custom_ctc, atol = atol))\n",
    "print('Grad matches:', torch.allclose(builtin_ctc_grad, custom_ctc_grad, atol = atol))\n",
    "print('CE grad matches:', torch.allclose(builtin_ctc_grad, ce_ctc_grad, atol = atol))\n",
    "\n",
    "alignment = ctc.ctc_loss(log_probs, targets, input_lengths, target_lengths, blank = 0, reduction = 'none', alignment = True)\n",
    "a = alignment[:, 0, :target_lengths[0]]\n",
    "print(a.t().cpu())\n",
    "plt.subplot(211)\n",
    "plt.title('Input-Output Viterbi alignment')\n",
    "plt.imshow(a.t().cpu(), origin = 'lower', aspect = 'auto')\n",
    "plt.xlabel('Input steps')\n",
    "plt.ylabel('Output steps')\n",
    "plt.subplot(212)\n",
    "plt.title('CTC alignment targets')\n",
    "a = ce_alignment_targets[:, 0, :]\n",
    "plt.imshow(a.t().cpu(), origin = 'lower', aspect = 'auto')\n",
    "plt.xlabel('Input steps')\n",
    "plt.ylabel(f'Output symbols, blank {blank}')\n",
    "plt.subplots_adjust(hspace = 0.5)\n",
    "plt.savefig('alignment.png')\n",
    "torch.set_printoptions(precision=2)\n",
    "print(a.t().cpu())\n",
    "print(targets[:,0])\n",
    "print(logits)"
   ]
  },
  {
   "cell_type": "code",
   "execution_count": null,
   "metadata": {},
   "outputs": [],
   "source": [
    "Test abc example\n",
    "abc-1"
   ]
  },
  {
   "cell_type": "code",
   "execution_count": 68,
   "metadata": {},
   "outputs": [],
   "source": [
    "probs_seq1 = [[\n",
    "            0.06390443, 0.42124858, 0.27323887, 0.06870235, 0.0361254,\n",
    "            0.18184413, 0.16493624\n",
    "        ], [\n",
    "            0.03309247, 0.42866108, 0.24390638, 0.09699597, 0.31895462,\n",
    "            0.0094893, 0.06890021\n",
    "        ], [\n",
    "            0.218104, 0.49992557, 0.18245131, 0.08503348, 0.14903535,\n",
    "            0.08424043, 0.08120984\n",
    "        ], [\n",
    "            0.12094152, 0.41162472, 0.01473646, 0.28045061, 0.24246305,\n",
    "            0.05206269, 0.09772094\n",
    "        ], [\n",
    "            0.1333387, 0.40550838, 0.00301669, 0.21745861, 0.20803985,\n",
    "            0.41317442, 0.01946335\n",
    "        ], [\n",
    "            0.16468227, 0.4180699, 0.1906545, 0.18963251, 0.19860937,\n",
    "            0.04377724, 0.01457421\n",
    "        ]]"
   ]
  },
  {
   "cell_type": "code",
   "execution_count": 75,
   "metadata": {},
   "outputs": [
    {
     "name": "stdout",
     "output_type": "stream",
     "text": [
      "tensor([[0.06, 0.42, 0.27, 0.07, 0.04, 0.18, 0.16],\n",
      "        [0.03, 0.43, 0.24, 0.10, 0.32, 0.01, 0.07],\n",
      "        [0.22, 0.50, 0.18, 0.09, 0.15, 0.08, 0.08],\n",
      "        [0.12, 0.41, 0.01, 0.28, 0.24, 0.05, 0.10],\n",
      "        [0.13, 0.41, 0.00, 0.22, 0.21, 0.41, 0.02],\n",
      "        [0.16, 0.42, 0.19, 0.19, 0.20, 0.04, 0.01]])\n"
     ]
    }
   ],
   "source": [
    "print(torch.as_tensor(probs_seq1))"
   ]
  },
  {
   "cell_type": "code",
   "execution_count": 71,
   "metadata": {},
   "outputs": [
    {
     "data": {
      "text/plain": [
       "tensor([[[-2.75, -0.86, -1.30, -2.68, -3.32, -1.70, -1.80]],\n",
       "\n",
       "        [[-3.41, -0.85, -1.41, -2.33, -1.14, -4.66, -2.68]],\n",
       "\n",
       "        [[-1.52, -0.69, -1.70, -2.46, -1.90, -2.47, -2.51]],\n",
       "\n",
       "        [[-2.11, -0.89, -4.22, -1.27, -1.42, -2.96, -2.33]],\n",
       "\n",
       "        [[-2.01, -0.90, -5.80, -1.53, -1.57, -0.88, -3.94]],\n",
       "\n",
       "        [[-1.80, -0.87, -1.66, -1.66, -1.62, -3.13, -4.23]]], device='cuda:0',\n",
       "       dtype=torch.float64, requires_grad=True)"
      ]
     },
     "execution_count": 71,
     "metadata": {},
     "output_type": "execute_result"
    }
   ],
   "source": [
    "logits"
   ]
  },
  {
   "cell_type": "code",
   "execution_count": 69,
   "metadata": {},
   "outputs": [
    {
     "name": "stdout",
     "output_type": "stream",
     "text": [
      "Device: cuda\n",
      "Log-probs shape (time X batch X channels): 6x1x7\n",
      "Built-in CTC loss fwd 0.0003521442413330078 bwd 0.0011229515075683594\n",
      "Custom CTC loss fwd 0.0035028457641601562 bwd 0.007745504379272461\n",
      "Custom loss matches: True\n",
      "Grad matches: True\n",
      "CE grad matches: True\n",
      "tensor([[1., 1., 0., 0., 0., 0.],\n",
      "        [0., 0., 1., 0., 0., 0.],\n",
      "        [0., 0., 0., 1., 1., 0.]], dtype=torch.float64)\n",
      "tensor([[6.27e-02, 2.89e-02, 2.50e-01, 2.68e-01, 2.33e-01, 5.01e-01],\n",
      "        [9.37e-01, 4.72e-01, 4.90e-02, 6.37e-03, 5.55e-17, 1.11e-16],\n",
      "        [2.50e-16, 4.99e-01, 6.33e-01, 8.27e-02, 9.55e-03, 5.55e-17],\n",
      "        [6.94e-17, 2.78e-17, 6.81e-02, 6.43e-01, 7.58e-01, 4.99e-01],\n",
      "        [3.47e-17, 1.11e-16, 1.53e-16, 8.33e-17, 2.78e-17, 5.55e-17],\n",
      "        [1.67e-16, 3.47e-18, 8.33e-17, 1.39e-17, 5.55e-17, 6.94e-18],\n",
      "        [1.67e-16, 2.08e-17, 7.63e-17, 2.78e-17, 1.73e-18, 3.47e-18]],\n",
      "       dtype=torch.float64)\n",
      "tensor([1], device='cuda:0')\n",
      "tensor([[[-2.75, -0.86, -1.30, -2.68, -3.32, -1.70, -1.80]],\n",
      "\n",
      "        [[-3.41, -0.85, -1.41, -2.33, -1.14, -4.66, -2.68]],\n",
      "\n",
      "        [[-1.52, -0.69, -1.70, -2.46, -1.90, -2.47, -2.51]],\n",
      "\n",
      "        [[-2.11, -0.89, -4.22, -1.27, -1.42, -2.96, -2.33]],\n",
      "\n",
      "        [[-2.01, -0.90, -5.80, -1.53, -1.57, -0.88, -3.94]],\n",
      "\n",
      "        [[-1.80, -0.87, -1.66, -1.66, -1.62, -3.13, -4.23]]], device='cuda:0',\n",
      "       dtype=torch.float64, requires_grad=True)\n"
     ]
    },
    {
     "data": {
      "image/png": "[encoded data removed]",
      "text/plain": [
       "<Figure size 432x288 with 2 Axes>"
      ]
     },
     "metadata": {
      "needs_background": "light"
     },
     "output_type": "display_data"
    }
   ],
   "source": [
    "import time\n",
    "import matplotlib.pyplot as plt\n",
    "\n",
    "import torch\n",
    "import torch.nn.functional as F\n",
    "\n",
    "import ctc\n",
    "\n",
    "T, B, C = 6, 1, 7\n",
    "t = 3\n",
    "blank = 0\n",
    "device = 'cuda'\n",
    "seed = 1\n",
    "atol = 1e-3\n",
    "for set_seed in [torch.manual_seed] + ([torch.cuda.manual_seed_all] if device == 'cuda' else []):\n",
    "\tset_seed(seed)\n",
    "tictoc = lambda: (device == 'cuda' and torch.cuda.synchronize()) or time.time()\n",
    "\n",
    "# logits = torch.randn(T, B, C, device = device).requires_grad_()\n",
    "import numpy\n",
    "logits = torch.reshape(torch.as_tensor(numpy.array(numpy.log(probs_seq1)),device = device), (6,1,7)).requires_grad_()\n",
    "\n",
    "# targets = torch.randint(blank + 1, C, (B, t), dtype = torch.long, device = device)\n",
    "targets = torch.reshape(torch.as_tensor(numpy.array([1,2,3]), dtype = torch.long, device = device), (B, t))\n",
    "\n",
    "\n",
    "\n",
    "input_lengths = torch.full((B,), T, dtype = torch.long, device = device)\n",
    "target_lengths = torch.full((B,), t, dtype = torch.long, device = device)\n",
    "log_probs = logits.log_softmax(dim = -1)\n",
    "\n",
    "print('Device:', device)\n",
    "print('Log-probs shape (time X batch X channels):', 'x'.join(map(str, log_probs.shape)))\n",
    "\n",
    "tic = tictoc()\n",
    "builtin_ctc = F.ctc_loss(log_probs, targets, input_lengths, target_lengths, blank = 0, reduction = 'none')\n",
    "toc = tictoc()\n",
    "builtin_ctc_grad, = torch.autograd.grad(builtin_ctc.sum(), logits, retain_graph = True)\n",
    "print('Built-in CTC loss', 'fwd', toc - tic, 'bwd', tictoc() - toc)\n",
    "\n",
    "tic = tictoc()\n",
    "custom_ctc = ctc.ctc_loss(log_probs, targets, input_lengths, target_lengths, blank = 0, reduction = 'none')\n",
    "toc = tictoc()\n",
    "custom_ctc_grad, = torch.autograd.grad(custom_ctc.sum(), logits, retain_graph = True)\n",
    "print('Custom CTC loss', 'fwd', toc - tic, 'bwd', tictoc() - toc)\n",
    "\n",
    "ce_alignment_targets = ctc.ctc_alignment_targets(log_probs, targets, input_lengths, target_lengths, blank = 0)\n",
    "ce_ctc = -ce_alignment_targets * log_probs\n",
    "ce_ctc_grad, = torch.autograd.grad(ce_ctc.sum(), logits, retain_graph = True)\n",
    "\n",
    "print('Custom loss matches:', torch.allclose(builtin_ctc, custom_ctc, atol = atol))\n",
    "print('Grad matches:', torch.allclose(builtin_ctc_grad, custom_ctc_grad, atol = atol))\n",
    "print('CE grad matches:', torch.allclose(builtin_ctc_grad, ce_ctc_grad, atol = atol))\n",
    "\n",
    "alignment = ctc.ctc_loss(log_probs, targets, input_lengths, target_lengths, blank = 0, reduction = 'none', alignment = True)\n",
    "a = alignment[:, 0, :target_lengths[0]]\n",
    "print(a.t().cpu())\n",
    "plt.subplot(211)\n",
    "plt.title('Input-Output Viterbi alignment')\n",
    "plt.imshow(a.t().cpu(), origin = 'lower', aspect = 'auto')\n",
    "plt.xlabel('Input steps')\n",
    "plt.ylabel('Output steps')\n",
    "plt.subplot(212)\n",
    "plt.title('CTC alignment targets')\n",
    "a = ce_alignment_targets[:, 0, :]\n",
    "plt.imshow(a.t().cpu(), origin = 'lower', aspect = 'auto')\n",
    "plt.xlabel('Input steps')\n",
    "plt.ylabel(f'Output symbols, blank {blank}')\n",
    "plt.subplots_adjust(hspace = 0.5)\n",
    "plt.savefig('alignment.png')\n",
    "torch.set_printoptions(precision=2)\n",
    "print(a.t().cpu())\n",
    "print(targets[:,0])\n",
    "print(logits)"
   ]
  },
  {
   "cell_type": "code",
   "execution_count": null,
   "metadata": {},
   "outputs": [],
   "source": [
    "test abc-2"
   ]
  },
  {
   "cell_type": "code",
   "execution_count": 81,
   "metadata": {},
   "outputs": [],
   "source": [
    "probs_seq1 = [[\n",
    "            0.06390443, 0.42124858, 0.27323887, 0.06870235, 0.0361254,\n",
    "            0.18184413, 0.16493624\n",
    "        ], [\n",
    "            0.03309247, 0.42866108, 0.24390638, 0.09699597, 0.31895462,\n",
    "            0.0094893, 0.06890021\n",
    "        ], [\n",
    "            0.218104, 0.49992557, 0.18245131, 0.08503348, 0.14903535,\n",
    "            0.08424043, 0.08120984\n",
    "        ], [\n",
    "            0.12094152, 0.41162472, 0.01473646, 0.28045061, 0.24246305,\n",
    "            0.05206269, 0.09772094\n",
    "        ], [\n",
    "            0.5333387, 0.40550838, 0.00301669, 0.21745861, 0.20803985,\n",
    "            0.41317442, 0.01946335\n",
    "        ], [\n",
    "            0.16468227, 0.4180699, 0.1906545, 0.53963251, 0.19860937,\n",
    "            0.04377724, 0.01457421\n",
    "        ]]"
   ]
  },
  {
   "cell_type": "code",
   "execution_count": 82,
   "metadata": {},
   "outputs": [
    {
     "name": "stdout",
     "output_type": "stream",
     "text": [
      "Device: cuda\n",
      "Log-probs shape (time X batch X channels): 6x1x7\n",
      "Built-in CTC loss fwd 0.00041484832763671875 bwd 0.0006978511810302734\n",
      "Custom CTC loss fwd 0.002694845199584961 bwd 0.006189823150634766\n",
      "Custom loss matches: True\n",
      "Grad matches: True\n",
      "CE grad matches: True\n",
      "tensor([[1., 1., 0., 0., 0., 0.],\n",
      "        [0., 0., 1., 0., 0., 0.],\n",
      "        [0., 0., 0., 1., 1., 1.]], dtype=torch.float64)\n",
      "tensor([[ 6.53e-02,  2.93e-02,  2.52e-01,  3.72e-01,  5.03e-01,  3.07e-01],\n",
      "        [ 9.35e-01,  4.91e-01,  6.44e-02,  5.87e-03,  0.00e+00, -1.11e-16],\n",
      "        [-1.94e-16,  4.80e-01,  6.27e-01,  1.15e-01,  8.80e-03, -5.55e-17],\n",
      "        [-4.86e-17, -4.16e-17,  5.67e-02,  5.07e-01,  4.88e-01,  6.93e-01],\n",
      "        [-2.43e-17, -1.67e-16,  0.00e+00,  5.55e-17,  0.00e+00, -5.55e-17],\n",
      "        [-1.39e-16, -5.20e-18,  0.00e+00,  1.39e-17,  0.00e+00, -1.39e-17],\n",
      "        [-1.11e-16, -3.47e-17,  0.00e+00,  2.78e-17,  0.00e+00, -3.47e-18]],\n",
      "       dtype=torch.float64)\n",
      "tensor([1], device='cuda:0')\n",
      "tensor([[[-2.75, -0.86, -1.30, -2.68, -3.32, -1.70, -1.80]],\n",
      "\n",
      "        [[-3.41, -0.85, -1.41, -2.33, -1.14, -4.66, -2.68]],\n",
      "\n",
      "        [[-1.52, -0.69, -1.70, -2.46, -1.90, -2.47, -2.51]],\n",
      "\n",
      "        [[-2.11, -0.89, -4.22, -1.27, -1.42, -2.96, -2.33]],\n",
      "\n",
      "        [[-0.63, -0.90, -5.80, -1.53, -1.57, -0.88, -3.94]],\n",
      "\n",
      "        [[-1.80, -0.87, -1.66, -0.62, -1.62, -3.13, -4.23]]], device='cuda:0',\n",
      "       dtype=torch.float64, requires_grad=True)\n"
     ]
    },
    {
     "data": {
      "image/png": "[encoded data removed]",
      "text/plain": [
       "<Figure size 432x288 with 2 Axes>"
      ]
     },
     "metadata": {
      "needs_background": "light"
     },
     "output_type": "display_data"
    }
   ],
   "source": [
    "import time\n",
    "import matplotlib.pyplot as plt\n",
    "\n",
    "import torch\n",
    "import torch.nn.functional as F\n",
    "\n",
    "import ctc\n",
    "\n",
    "T, B, C = 6, 1, 7\n",
    "t = 3\n",
    "blank = 0\n",
    "device = 'cuda'\n",
    "seed = 1\n",
    "atol = 1e-3\n",
    "for set_seed in [torch.manual_seed] + ([torch.cuda.manual_seed_all] if device == 'cuda' else []):\n",
    "\tset_seed(seed)\n",
    "tictoc = lambda: (device == 'cuda' and torch.cuda.synchronize()) or time.time()\n",
    "\n",
    "# logits = torch.randn(T, B, C, device = device).requires_grad_()\n",
    "import numpy\n",
    "logits = torch.reshape(torch.as_tensor(numpy.array(numpy.log(probs_seq1)),device = device), (6,1,7)).requires_grad_()\n",
    "\n",
    "# targets = torch.randint(blank + 1, C, (B, t), dtype = torch.long, device = device)\n",
    "targets = torch.reshape(torch.as_tensor(numpy.array([1,2,3]), dtype = torch.long, device = device), (B, t))\n",
    "\n",
    "\n",
    "\n",
    "input_lengths = torch.full((B,), T, dtype = torch.long, device = device)\n",
    "target_lengths = torch.full((B,), t, dtype = torch.long, device = device)\n",
    "log_probs = logits.log_softmax(dim = -1)\n",
    "\n",
    "print('Device:', device)\n",
    "print('Log-probs shape (time X batch X channels):', 'x'.join(map(str, log_probs.shape)))\n",
    "\n",
    "tic = tictoc()\n",
    "builtin_ctc = F.ctc_loss(log_probs, targets, input_lengths, target_lengths, blank = 0, reduction = 'none')\n",
    "toc = tictoc()\n",
    "builtin_ctc_grad, = torch.autograd.grad(builtin_ctc.sum(), logits, retain_graph = True)\n",
    "print('Built-in CTC loss', 'fwd', toc - tic, 'bwd', tictoc() - toc)\n",
    "\n",
    "tic = tictoc()\n",
    "custom_ctc = ctc.ctc_loss(log_probs, targets, input_lengths, target_lengths, blank = 0, reduction = 'none')\n",
    "toc = tictoc()\n",
    "custom_ctc_grad, = torch.autograd.grad(custom_ctc.sum(), logits, retain_graph = True)\n",
    "print('Custom CTC loss', 'fwd', toc - tic, 'bwd', tictoc() - toc)\n",
    "\n",
    "ce_alignment_targets = ctc.ctc_alignment_targets(log_probs, targets, input_lengths, target_lengths, blank = 0)\n",
    "ce_ctc = -ce_alignment_targets * log_probs\n",
    "ce_ctc_grad, = torch.autograd.grad(ce_ctc.sum(), logits, retain_graph = True)\n",
    "\n",
    "print('Custom loss matches:', torch.allclose(builtin_ctc, custom_ctc, atol = atol))\n",
    "print('Grad matches:', torch.allclose(builtin_ctc_grad, custom_ctc_grad, atol = atol))\n",
    "print('CE grad matches:', torch.allclose(builtin_ctc_grad, ce_ctc_grad, atol = atol))\n",
    "\n",
    "alignment = ctc.ctc_loss(log_probs, targets, input_lengths, target_lengths, blank = 0, reduction = 'none', alignment = True)\n",
    "a = alignment[:, 0, :target_lengths[0]]\n",
    "print(a.t().cpu())\n",
    "plt.subplot(211)\n",
    "plt.title('Input-Output Viterbi alignment')\n",
    "plt.imshow(a.t().cpu(), origin = 'lower', aspect = 'auto')\n",
    "plt.xlabel('Input steps')\n",
    "plt.ylabel('Output steps')\n",
    "plt.subplot(212)\n",
    "plt.title('CTC alignment targets')\n",
    "a = ce_alignment_targets[:, 0, :]\n",
    "plt.imshow(a.t().cpu(), origin = 'lower', aspect = 'auto')\n",
    "plt.xlabel('Input steps')\n",
    "plt.ylabel(f'Output symbols, blank {blank}')\n",
    "plt.subplots_adjust(hspace = 0.5)\n",
    "plt.savefig('alignment.png')\n",
    "torch.set_printoptions(precision=2)\n",
    "print(a.t().cpu())\n",
    "print(targets[:,0])\n",
    "print(logits)"
   ]
  },
  {
   "cell_type": "code",
   "execution_count": null,
   "metadata": {},
   "outputs": [],
   "source": [
    "test abc-3"
   ]
  },
  {
   "cell_type": "code",
   "execution_count": 84,
   "metadata": {},
   "outputs": [
    {
     "name": "stdout",
     "output_type": "stream",
     "text": [
      "Device: cuda\n",
      "Log-probs shape (time X batch X channels): 6x1x7\n",
      "Built-in CTC loss fwd 0.00091552734375 bwd 0.0007872581481933594\n",
      "Custom CTC loss fwd 0.0030519962310791016 bwd 0.007417201995849609\n",
      "Custom loss matches: True\n",
      "Grad matches: True\n",
      "CE grad matches: True\n",
      "tensor([[1., 1., 0., 0., 0., 0.],\n",
      "        [0., 0., 1., 0., 0., 0.],\n",
      "        [0., 0., 0., 0., 0., 1.]], dtype=torch.float64)\n",
      "tensor([[ 6.58e-02,  2.94e-02,  2.52e-01,  4.03e-01,  6.40e-01,  3.27e-01],\n",
      "        [ 9.34e-01,  4.94e-01,  6.69e-02,  4.26e-03,  1.11e-16,  5.55e-17],\n",
      "        [ 8.33e-17,  4.77e-01,  6.26e-01,  1.24e-01,  6.39e-03,  1.39e-17],\n",
      "        [ 2.08e-17,  4.16e-17,  5.51e-02,  4.69e-01,  3.54e-01,  6.73e-01],\n",
      "        [ 1.04e-17,  1.11e-16, -4.16e-17, -2.78e-17,  5.55e-17,  2.78e-17],\n",
      "        [ 5.55e-17,  3.47e-18, -2.78e-17, -6.94e-18,  1.11e-16,  3.47e-18],\n",
      "        [ 5.55e-17,  2.78e-17, -2.08e-17, -1.39e-17,  5.20e-18,  1.73e-18]],\n",
      "       dtype=torch.float64)\n",
      "tensor([1], device='cuda:0')\n",
      "tensor([[[-2.75, -0.86, -1.30, -2.68, -3.32, -1.70, -1.80]],\n",
      "\n",
      "        [[-3.41, -0.85, -1.41, -2.33, -1.14, -4.66, -2.68]],\n",
      "\n",
      "        [[-1.52, -0.69, -1.70, -2.46, -1.90, -2.47, -2.51]],\n",
      "\n",
      "        [[-2.11, -0.89, -4.22, -1.27, -1.42, -2.96, -2.33]],\n",
      "\n",
      "        [[-0.07, -0.90, -5.80, -1.53, -1.57, -0.88, -3.94]],\n",
      "\n",
      "        [[-1.80, -0.87, -1.66, -0.62, -1.62, -3.13, -4.23]]], device='cuda:0',\n",
      "       dtype=torch.float64, requires_grad=True)\n"
     ]
    },
    {
     "data": {
      "image/png": "[encoded data removed]",
      "text/plain": [
       "<Figure size 432x288 with 2 Axes>"
      ]
     },
     "metadata": {
      "needs_background": "light"
     },
     "output_type": "display_data"
    }
   ],
   "source": [
    "probs_seq1 = [[\n",
    "            0.06390443, 0.42124858, 0.27323887, 0.06870235, 0.0361254,\n",
    "            0.18184413, 0.16493624\n",
    "        ], [\n",
    "            0.03309247, 0.42866108, 0.24390638, 0.09699597, 0.31895462,\n",
    "            0.0094893, 0.06890021\n",
    "        ], [\n",
    "            0.218104, 0.49992557, 0.18245131, 0.08503348, 0.14903535,\n",
    "            0.08424043, 0.08120984\n",
    "        ], [\n",
    "            0.12094152, 0.41162472, 0.01473646, 0.28045061, 0.24246305,\n",
    "            0.05206269, 0.09772094\n",
    "        ], [\n",
    "            0.9333387, 0.40550838, 0.00301669, 0.21745861, 0.20803985,\n",
    "            0.41317442, 0.01946335\n",
    "        ], [\n",
    "            0.16468227, 0.4180699, 0.1906545, 0.53963251, 0.19860937,\n",
    "            0.04377724, 0.01457421\n",
    "        ]]\n",
    "import time\n",
    "import matplotlib.pyplot as plt\n",
    "\n",
    "import torch\n",
    "import torch.nn.functional as F\n",
    "\n",
    "import ctc\n",
    "\n",
    "T, B, C = 6, 1, 7\n",
    "t = 3\n",
    "blank = 0\n",
    "device = 'cuda'\n",
    "seed = 1\n",
    "atol = 1e-3\n",
    "for set_seed in [torch.manual_seed] + ([torch.cuda.manual_seed_all] if device == 'cuda' else []):\n",
    "\tset_seed(seed)\n",
    "tictoc = lambda: (device == 'cuda' and torch.cuda.synchronize()) or time.time()\n",
    "\n",
    "# logits = torch.randn(T, B, C, device = device).requires_grad_()\n",
    "import numpy\n",
    "logits = torch.reshape(torch.as_tensor(numpy.array(numpy.log(probs_seq1)),device = device), (6,1,7)).requires_grad_()\n",
    "\n",
    "# targets = torch.randint(blank + 1, C, (B, t), dtype = torch.long, device = device)\n",
    "targets = torch.reshape(torch.as_tensor(numpy.array([1,2,3]), dtype = torch.long, device = device), (B, t))\n",
    "\n",
    "\n",
    "\n",
    "input_lengths = torch.full((B,), T, dtype = torch.long, device = device)\n",
    "target_lengths = torch.full((B,), t, dtype = torch.long, device = device)\n",
    "log_probs = logits.log_softmax(dim = -1)\n",
    "\n",
    "print('Device:', device)\n",
    "print('Log-probs shape (time X batch X channels):', 'x'.join(map(str, log_probs.shape)))\n",
    "\n",
    "tic = tictoc()\n",
    "builtin_ctc = F.ctc_loss(log_probs, targets, input_lengths, target_lengths, blank = 0, reduction = 'none')\n",
    "toc = tictoc()\n",
    "builtin_ctc_grad, = torch.autograd.grad(builtin_ctc.sum(), logits, retain_graph = True)\n",
    "print('Built-in CTC loss', 'fwd', toc - tic, 'bwd', tictoc() - toc)\n",
    "\n",
    "tic = tictoc()\n",
    "custom_ctc = ctc.ctc_loss(log_probs, targets, input_lengths, target_lengths, blank = 0, reduction = 'none')\n",
    "toc = tictoc()\n",
    "custom_ctc_grad, = torch.autograd.grad(custom_ctc.sum(), logits, retain_graph = True)\n",
    "print('Custom CTC loss', 'fwd', toc - tic, 'bwd', tictoc() - toc)\n",
    "\n",
    "ce_alignment_targets = ctc.ctc_alignment_targets(log_probs, targets, input_lengths, target_lengths, blank = 0)\n",
    "ce_ctc = -ce_alignment_targets * log_probs\n",
    "ce_ctc_grad, = torch.autograd.grad(ce_ctc.sum(), logits, retain_graph = True)\n",
    "\n",
    "print('Custom loss matches:', torch.allclose(builtin_ctc, custom_ctc, atol = atol))\n",
    "print('Grad matches:', torch.allclose(builtin_ctc_grad, custom_ctc_grad, atol = atol))\n",
    "print('CE grad matches:', torch.allclose(builtin_ctc_grad, ce_ctc_grad, atol = atol))\n",
    "\n",
    "alignment = ctc.ctc_loss(log_probs, targets, input_lengths, target_lengths, blank = 0, reduction = 'none', alignment = True)\n",
    "a = alignment[:, 0, :target_lengths[0]]\n",
    "print(a.t().cpu())\n",
    "plt.subplot(211)\n",
    "plt.title('Input-Output Viterbi alignment')\n",
    "plt.imshow(a.t().cpu(), origin = 'lower', aspect = 'auto')\n",
    "plt.xlabel('Input steps')\n",
    "plt.ylabel('Output steps')\n",
    "plt.subplot(212)\n",
    "plt.title('CTC alignment targets')\n",
    "a = ce_alignment_targets[:, 0, :]\n",
    "plt.imshow(a.t().cpu(), origin = 'lower', aspect = 'auto')\n",
    "plt.xlabel('Input steps')\n",
    "plt.ylabel(f'Output symbols, blank {blank}')\n",
    "plt.subplots_adjust(hspace = 0.5)\n",
    "plt.savefig('alignment.png')\n",
    "torch.set_printoptions(precision=2)\n",
    "print(a.t().cpu())\n",
    "print(targets[:,0])\n",
    "print(logits)"
   ]
  },
  {
   "cell_type": "code",
   "execution_count": null,
   "metadata": {},
   "outputs": [],
   "source": []
  }
 ],
 "metadata": {
  "kernelspec": {
   "display_name": "Python 3",
   "language": "python",
   "name": "python3"
  },
  "language_info": {
   "codemirror_mode": {
    "name": "ipython",
    "version": 3
   },
   "file_extension": ".py",
   "mimetype": "text/x-python",
   "name": "python",
   "nbconvert_exporter": "python",
   "pygments_lexer": "ipython3",
   "version": "3.7.7"
  }
 },
 "nbformat": 4,
 "nbformat_minor": 4
}
