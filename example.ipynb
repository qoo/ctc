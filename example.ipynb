{
 "cells": [
  {
   "cell_type": "code",
   "execution_count": 1,
   "metadata": {},
   "outputs": [
    {
     "name": "stdout",
     "output_type": "stream",
     "text": [
      "Device: cuda\n",
      "Log-probs shape (time X batch X channels): 128x256x32\n",
      "Built-in CTC loss fwd 0.0037965774536132812 bwd 0.9368338584899902\n",
      "Custom CTC loss fwd 0.19373488426208496 bwd 0.1380176544189453\n",
      "Custom loss matches: True\n",
      "Grad matches: True\n",
      "CE grad matches: True\n"
     ]
    },
    {
     "data": {
      "image/png": "[encoded data removed]",
      "text/plain": [
       "<Figure size 432x288 with 2 Axes>"
      ]
     },
     "metadata": {
      "needs_background": "light"
     },
     "output_type": "display_data"
    }
   ],
   "source": [
    "import time\n",
    "import matplotlib.pyplot as plt\n",
    "\n",
    "import torch\n",
    "import torch.nn.functional as F\n",
    "\n",
    "import ctc\n",
    "\n",
    "T, B, C = 128, 256, 32\n",
    "t = T // 2 - 4\n",
    "blank = 0\n",
    "device = 'cuda'\n",
    "seed = 1\n",
    "atol = 1e-3\n",
    "for set_seed in [torch.manual_seed] + ([torch.cuda.manual_seed_all] if device == 'cuda' else []):\n",
    "\tset_seed(seed)\n",
    "tictoc = lambda: (device == 'cuda' and torch.cuda.synchronize()) or time.time()\n",
    "\n",
    "logits = torch.randn(T, B, C, device = device).requires_grad_()\n",
    "targets = torch.randint(blank + 1, C, (B, t), dtype = torch.long, device = device)\n",
    "input_lengths = torch.full((B,), T, dtype = torch.long, device = device)\n",
    "target_lengths = torch.full((B,), t, dtype = torch.long, device = device)\n",
    "log_probs = logits.log_softmax(dim = -1)\n",
    "\n",
    "print('Device:', device)\n",
    "print('Log-probs shape (time X batch X channels):', 'x'.join(map(str, log_probs.shape)))\n",
    "\n",
    "tic = tictoc()\n",
    "builtin_ctc = F.ctc_loss(log_probs, targets, input_lengths, target_lengths, blank = 0, reduction = 'none')\n",
    "toc = tictoc()\n",
    "builtin_ctc_grad, = torch.autograd.grad(builtin_ctc.sum(), logits, retain_graph = True)\n",
    "print('Built-in CTC loss', 'fwd', toc - tic, 'bwd', tictoc() - toc)\n",
    "\n",
    "tic = tictoc()\n",
    "custom_ctc = ctc.ctc_loss(log_probs, targets, input_lengths, target_lengths, blank = 0, reduction = 'none')\n",
    "toc = tictoc()\n",
    "custom_ctc_grad, = torch.autograd.grad(custom_ctc.sum(), logits, retain_graph = True)\n",
    "print('Custom CTC loss', 'fwd', toc - tic, 'bwd', tictoc() - toc)\n",
    "\n",
    "ce_alignment_targets = ctc.ctc_alignment_targets(log_probs, targets, input_lengths, target_lengths, blank = 0)\n",
    "ce_ctc = -ce_alignment_targets * log_probs\n",
    "ce_ctc_grad, = torch.autograd.grad(ce_ctc.sum(), logits, retain_graph = True)\n",
    "\n",
    "print('Custom loss matches:', torch.allclose(builtin_ctc, custom_ctc, atol = atol))\n",
    "print('Grad matches:', torch.allclose(builtin_ctc_grad, custom_ctc_grad, atol = atol))\n",
    "print('CE grad matches:', torch.allclose(builtin_ctc_grad, ce_ctc_grad, atol = atol))\n",
    "\n",
    "alignment = ctc.ctc_loss(log_probs, targets, input_lengths, target_lengths, blank = 0, reduction = 'none', alignment = True)\n",
    "a = alignment[:, 0, :target_lengths[0]]\n",
    "plt.subplot(211)\n",
    "plt.title('Input-Output Viterbi alignment')\n",
    "plt.imshow(a.t().cpu(), origin = 'lower', aspect = 'auto')\n",
    "plt.xlabel('Input steps')\n",
    "plt.ylabel('Output steps')\n",
    "plt.subplot(212)\n",
    "plt.title('CTC alignment targets')\n",
    "a = ce_alignment_targets[:, 0, :]\n",
    "plt.imshow(a.t().cpu(), origin = 'lower', aspect = 'auto')\n",
    "plt.xlabel('Input steps')\n",
    "plt.ylabel(f'Output symbols, blank {blank}')\n",
    "plt.subplots_adjust(hspace = 0.5)\n",
    "plt.savefig('alignment.png')"
   ]
  },
  {
   "cell_type": "code",
   "execution_count": null,
   "metadata": {},
   "outputs": [],
   "source": []
  },
  {
   "cell_type": "code",
   "execution_count": 12,
   "metadata": {},
   "outputs": [
    {
     "data": {
      "text/plain": [
       "tensor([60, 60, 60, 60, 60, 60, 60, 60, 60, 60, 60, 60, 60, 60, 60, 60, 60, 60,\n",
       "        60, 60, 60, 60, 60, 60, 60, 60, 60, 60, 60, 60, 60, 60, 60, 60, 60, 60,\n",
       "        60, 60, 60, 60, 60, 60, 60, 60, 60, 60, 60, 60, 60, 60, 60, 60, 60, 60,\n",
       "        60, 60, 60, 60, 60, 60, 60, 60, 60, 60, 60, 60, 60, 60, 60, 60, 60, 60,\n",
       "        60, 60, 60, 60, 60, 60, 60, 60, 60, 60, 60, 60, 60, 60, 60, 60, 60, 60,\n",
       "        60, 60, 60, 60, 60, 60, 60, 60, 60, 60, 60, 60, 60, 60, 60, 60, 60, 60,\n",
       "        60, 60, 60, 60, 60, 60, 60, 60, 60, 60, 60, 60, 60, 60, 60, 60, 60, 60,\n",
       "        60, 60, 60, 60, 60, 60, 60, 60, 60, 60, 60, 60, 60, 60, 60, 60, 60, 60,\n",
       "        60, 60, 60, 60, 60, 60, 60, 60, 60, 60, 60, 60, 60, 60, 60, 60, 60, 60,\n",
       "        60, 60, 60, 60, 60, 60, 60, 60, 60, 60, 60, 60, 60, 60, 60, 60, 60, 60,\n",
       "        60, 60, 60, 60, 60, 60, 60, 60, 60, 60, 60, 60, 60, 60, 60, 60, 60, 60,\n",
       "        60, 60, 60, 60, 60, 60, 60, 60, 60, 60, 60, 60, 60, 60, 60, 60, 60, 60,\n",
       "        60, 60, 60, 60, 60, 60, 60, 60, 60, 60, 60, 60, 60, 60, 60, 60, 60, 60,\n",
       "        60, 60, 60, 60, 60, 60, 60, 60, 60, 60, 60, 60, 60, 60, 60, 60, 60, 60,\n",
       "        60, 60, 60, 60], device='cuda:0')"
      ]
     },
     "execution_count": 12,
     "metadata": {},
     "output_type": "execute_result"
    }
   ],
   "source": [
    "target_lengths"
   ]
  },
  {
   "cell_type": "code",
   "execution_count": 10,
   "metadata": {},
   "outputs": [
    {
     "name": "stdout",
     "output_type": "stream",
     "text": [
      "60\n",
      "torch.Size([128, 256, 61])\n",
      "torch.Size([128, 60])\n",
      "torch.Size([128, 256, 32])\n"
     ]
    }
   ],
   "source": [
    "print(t)\n",
    "print(alignment.size())\n",
    "a = alignment[:, 0, :target_lengths[0]]\n",
    "print(a.size())\n",
    "print(logits.size())"
   ]
  },
  {
   "cell_type": "code",
   "execution_count": 2,
   "metadata": {},
   "outputs": [
    {
     "data": {
      "text/plain": [
       "tensor([[[-2.9628e-01,  2.6764e+00, -1.4085e-01,  ...,  1.8636e-01,\n",
       "          -1.5413e+00,  1.3425e+00],\n",
       "         [ 5.7348e-01,  2.7806e-02,  1.2966e-02,  ..., -8.5268e-01,\n",
       "           3.5594e-01, -1.3682e+00],\n",
       "         [-1.4363e+00, -1.5196e+00,  2.2909e-01,  ..., -4.7396e-01,\n",
       "          -1.3142e+00, -7.8856e-01],\n",
       "         ...,\n",
       "         [-1.4285e+00,  2.8120e-01, -1.5915e+00,  ..., -4.0258e-01,\n",
       "          -2.5593e-01, -3.3626e-02],\n",
       "         [ 4.7650e-01, -1.7647e+00, -4.2770e-01,  ..., -1.2805e+00,\n",
       "          -1.0275e+00, -5.2449e-01],\n",
       "         [ 7.1077e-01, -5.4442e-02, -1.6914e-01,  ...,  1.7871e+00,\n",
       "           2.7135e+00, -1.6598e-02]],\n",
       "\n",
       "        [[ 9.2974e-01,  5.7184e-01,  2.0154e-01,  ...,  7.0909e-01,\n",
       "          -1.4973e+00, -1.4601e+00],\n",
       "         [-7.4001e-01,  5.3839e-01, -4.7201e-01,  ...,  4.8079e-01,\n",
       "          -6.8517e-02,  3.3242e-01],\n",
       "         [ 1.3733e+00, -4.0550e-01, -1.4875e+00,  ...,  6.1299e-01,\n",
       "          -9.2470e-01, -1.7578e+00],\n",
       "         ...,\n",
       "         [-1.1940e+00,  8.7616e-01,  1.8284e-01,  ...,  1.8945e+00,\n",
       "          -2.9539e-01,  2.1218e-01],\n",
       "         [-4.5761e-01,  1.0407e+00, -8.6823e-01,  ..., -4.4782e-01,\n",
       "          -1.9708e-01,  5.1638e-01],\n",
       "         [ 1.0236e+00, -2.5254e-02, -9.2912e-01,  ..., -2.0944e-01,\n",
       "           7.3583e-02,  7.3436e-01]],\n",
       "\n",
       "        [[-1.5788e+00,  1.9967e-01, -2.5756e-01,  ...,  1.0934e+00,\n",
       "           9.6230e-01,  1.6763e-01],\n",
       "         [-5.9701e-01, -1.0396e-01,  3.7110e-01,  ..., -4.6018e-01,\n",
       "           2.3063e-01, -1.6801e+00],\n",
       "         [ 8.5386e-01, -9.6969e-01, -2.1026e+00,  ..., -3.7424e-02,\n",
       "           1.6268e+00,  3.8866e-01],\n",
       "         ...,\n",
       "         [-1.5202e+00,  7.3763e-01,  1.0527e-01,  ..., -2.7162e-01,\n",
       "           2.4003e+00,  4.9508e-01],\n",
       "         [ 8.0886e-01,  3.7876e-01, -8.0072e-01,  ...,  9.8467e-02,\n",
       "          -4.5853e-01, -7.0725e-01],\n",
       "         [ 9.5299e-01, -4.1994e-01,  7.4806e-01,  ...,  1.5337e+00,\n",
       "          -1.1810e+00, -2.1882e-01]],\n",
       "\n",
       "        ...,\n",
       "\n",
       "        [[-1.5903e+00, -4.2180e-01,  1.4018e+00,  ...,  1.1982e-01,\n",
       "          -1.0643e+00, -3.7255e-01],\n",
       "         [ 1.0046e+00,  2.0747e+00, -1.0023e+00,  ..., -1.1811e+00,\n",
       "           1.5657e+00,  1.3232e+00],\n",
       "         [-1.3735e-01,  1.0598e+00,  1.1584e+00,  ..., -3.9633e-01,\n",
       "          -2.1740e-01,  1.9568e+00],\n",
       "         ...,\n",
       "         [-4.4645e-01, -5.8894e-01,  9.7472e-01,  ..., -7.2676e-01,\n",
       "          -1.2164e+00,  1.2033e+00],\n",
       "         [-1.6661e+00,  7.8248e-01,  1.2085e+00,  ...,  9.4207e-01,\n",
       "           1.7312e+00, -5.5448e-01],\n",
       "         [-5.8624e-02, -7.8562e-01,  3.5753e-01,  ..., -1.3720e+00,\n",
       "           1.0548e+00, -2.1704e+00]],\n",
       "\n",
       "        [[-8.4077e-01, -8.8400e-01,  2.5499e-01,  ..., -4.2082e-01,\n",
       "          -1.2168e+00, -1.2670e+00],\n",
       "         [ 1.0641e+00,  1.8033e+00,  1.3352e+00,  ..., -2.1195e+00,\n",
       "          -3.3957e-01,  5.3417e-01],\n",
       "         [ 3.5464e-01,  1.0333e-01,  5.0904e-01,  ...,  4.4004e-01,\n",
       "           8.4296e-01,  2.9860e-01],\n",
       "         ...,\n",
       "         [-1.3739e+00,  1.7536e-01, -2.8547e+00,  ..., -7.9308e-01,\n",
       "           8.6692e-01, -1.9954e-01],\n",
       "         [ 2.7209e-01, -2.0878e-03,  4.9024e-01,  ..., -8.4826e-01,\n",
       "          -4.3352e-01, -2.0093e-02],\n",
       "         [ 1.9444e-01,  2.2613e-01, -9.1228e-01,  ..., -1.6790e+00,\n",
       "           6.6086e-01,  2.4788e-01]],\n",
       "\n",
       "        [[ 5.8359e-01, -5.1014e-01,  2.1751e-01,  ...,  7.0486e-02,\n",
       "          -9.5472e-01, -2.7304e-01],\n",
       "         [-1.1601e+00, -5.9158e-01, -5.6269e-01,  ..., -3.3130e-01,\n",
       "          -1.1187e+00,  1.6143e+00],\n",
       "         [-4.6655e-01,  5.0978e-01,  1.4962e+00,  ...,  5.7610e-01,\n",
       "          -1.0451e-01,  2.8317e-02],\n",
       "         ...,\n",
       "         [-2.0438e-01, -8.1285e-01,  8.6266e-01,  ..., -3.3318e-01,\n",
       "           8.8094e-01, -1.6974e-01],\n",
       "         [-1.2391e+00, -1.6575e+00, -2.1321e+00,  ..., -6.0040e-01,\n",
       "           1.5735e+00, -1.1532e+00],\n",
       "         [ 1.3154e+00,  9.9696e-01,  6.2095e-02,  ..., -4.0701e-01,\n",
       "           5.3686e-01,  6.0711e-01]]], device='cuda:0', requires_grad=True)"
      ]
     },
     "execution_count": 2,
     "metadata": {},
     "output_type": "execute_result"
    }
   ],
   "source": [
    "logits #= torch.randn(T, B, C, device = device).requires_grad_()\n",
    "# torch.randn(*size, out=None, dtype=None, layout=torch.strided, device=None, requires_grad=False) → Tensor"
   ]
  },
  {
   "cell_type": "code",
   "execution_count": 3,
   "metadata": {},
   "outputs": [
    {
     "data": {
      "text/plain": [
       "tensor([[12,  5, 17,  ...,  8, 21,  1],\n",
       "        [ 3, 22,  2,  ..., 15, 20, 26],\n",
       "        [10, 19, 23,  ..., 28, 18,  1],\n",
       "        ...,\n",
       "        [13, 27, 28,  ..., 21, 31, 30],\n",
       "        [19, 24, 15,  ...,  2, 19, 12],\n",
       "        [ 4,  5, 21,  ..., 23,  9, 13]], device='cuda:0')"
      ]
     },
     "execution_count": 3,
     "metadata": {},
     "output_type": "execute_result"
    }
   ],
   "source": [
    "targets #= torch.randint(blank + 1, C, (B, t), dtype = torch.long, device = device)\n",
    "# randint(low=0, high, size, *, generator=None, out=None,"
   ]
  },
  {
   "cell_type": "code",
   "execution_count": 13,
   "metadata": {},
   "outputs": [
    {
     "name": "stdout",
     "output_type": "stream",
     "text": [
      "torch.Size([256, 60])\n"
     ]
    }
   ],
   "source": [
    "print(targets.size())"
   ]
  },
  {
   "cell_type": "code",
   "execution_count": 14,
   "metadata": {},
   "outputs": [
    {
     "data": {
      "text/plain": [
       "tensor([[ 8.4674e-01,  7.6278e-01,  1.1277e-01,  ...,  1.0386e-02,\n",
       "          5.4665e-02,  1.3087e-01],\n",
       "        [ 5.1707e-06,  7.0781e-07, -5.5879e-07,  ...,  4.8860e-02,\n",
       "          1.4171e-01,  8.6913e-01],\n",
       "        [ 3.0920e-07,  4.8801e-07, -3.5390e-07,  ...,  8.3447e-07,\n",
       "          2.4773e-07,  1.4901e-08],\n",
       "        ...,\n",
       "        [ 4.2841e-07,  8.1211e-07, -1.3672e-06,  ...,  2.3097e-07,\n",
       "          1.2666e-07,  1.4901e-08],\n",
       "        [ 7.6136e-08,  8.9407e-08, -1.1995e-06,  ...,  7.0781e-08,\n",
       "          5.6811e-08,  5.5879e-09],\n",
       "        [ 1.3635e-06,  9.3132e-08, -5.4017e-07,  ...,  1.4156e-07,\n",
       "          5.4017e-08,  9.3132e-09]])"
      ]
     },
     "execution_count": 14,
     "metadata": {},
     "output_type": "execute_result"
    }
   ],
   "source": [
    "a = ce_alignment_targets[:, 0, :]\n",
    "a.cpu().t()\n"
   ]
  },
  {
   "cell_type": "code",
   "execution_count": 28,
   "metadata": {},
   "outputs": [
    {
     "name": "stdout",
     "output_type": "stream",
     "text": [
      "tensor([[0., 0., 1., 1., 0.],\n",
      "        [0., 0., 0., 0., 1.],\n",
      "        [0., 0., 0., 0., 0.],\n",
      "        [0., 0., 0., 0., 0.]])\n",
      "tensor([[ 8.4674e-01,  7.6278e-01,  1.1277e-01,  3.6146e-01,  4.2714e-01],\n",
      "        [ 5.1707e-06,  7.0781e-07, -5.5879e-07, -7.4133e-07, -2.6599e-06],\n",
      "        [ 3.0920e-07,  4.8801e-07, -3.5390e-07, -4.1537e-07, -2.7567e-07],\n",
      "        [ 1.5320e-07,  9.8720e-08, -1.5041e-07, -2.3693e-06, -7.2457e-07],\n",
      "        [ 4.7684e-07,  1.8068e-07, -6.4820e-07, -6.0163e-07, -3.3379e-06],\n",
      "        [ 2.6822e-07,  6.8945e-02,  3.7062e-02,  1.7848e-01,  4.3889e-01],\n",
      "        [ 8.3121e-08,  1.2107e-07, -3.8650e-07, -1.4678e-06, -8.6054e-07],\n",
      "        [ 3.8147e-06,  4.8429e-07, -1.9465e-07, -7.3342e-08, -1.2256e-06],\n",
      "        [ 3.4925e-07,  6.7055e-07, -1.2107e-07, -8.6054e-07, -2.7474e-07],\n",
      "        [ 2.1886e-08,  4.5821e-07, -3.2112e-06, -2.0862e-06, -4.7684e-06],\n",
      "        [ 2.4401e-07,  1.6950e-07, -5.0291e-07, -6.5938e-07, -6.2026e-07],\n",
      "        [ 7.2084e-07,  5.7369e-07, -8.1956e-07, -1.9837e-07, -1.8906e-07],\n",
      "        [ 1.5323e-01,  1.6827e-01,  7.9189e-01,  4.2840e-01,  5.0603e-02],\n",
      "        [ 3.1386e-07,  8.7079e-08, -6.4820e-07, -1.1618e-07, -2.5658e-07]])\n",
      "tensor([12,  3, 10,  7, 28], device='cuda:0')\n"
     ]
    },
    {
     "data": {
      "image/png": "[encoded data removed]",
      "text/plain": [
       "<Figure size 432x288 with 2 Axes>"
      ]
     },
     "metadata": {
      "needs_background": "light"
     },
     "output_type": "display_data"
    }
   ],
   "source": [
    "alignment = ctc.ctc_loss(log_probs, targets, input_lengths, target_lengths, blank = 0, reduction = 'none', alignment = True)\n",
    "a = alignment[:, 0, :target_lengths[0]]\n",
    "plt.subplot(211)\n",
    "plt.title('Input-Output Viterbi alignment')\n",
    "plt.imshow(a.t().cpu()[:4,:5], origin = 'lower', aspect = 'auto')\n",
    "print(a.t().cpu()[:4,:5])\n",
    "plt.xlabel('Input steps')\n",
    "plt.ylabel('Output steps')\n",
    "plt.subplot(212)\n",
    "plt.title('CTC alignment targets')\n",
    "a = ce_alignment_targets[:, 0, :]\n",
    "plt.imshow(a.t().cpu()[:,:5], origin = 'lower', aspect = 'auto')\n",
    "plt.xlabel('Input steps')\n",
    "plt.ylabel(f'Output symbols, blank {blank}')\n",
    "plt.subplots_adjust(hspace = 0.5)\n",
    "plt.savefig('alignment.png')\n",
    "print(a.t().cpu()[:14,:5])\n",
    "print(targets[:5,0])"
   ]
  },
  {
   "cell_type": "code",
   "execution_count": null,
   "metadata": {},
   "outputs": [],
   "source": [
    "targets"
   ]
  }
 ],
 "metadata": {
  "kernelspec": {
   "display_name": "Python 3",
   "language": "python",
   "name": "python3"
  },
  "language_info": {
   "codemirror_mode": {
    "name": "ipython",
    "version": 3
   },
   "file_extension": ".py",
   "mimetype": "text/x-python",
   "name": "python",
   "nbconvert_exporter": "python",
   "pygments_lexer": "ipython3",
   "version": "3.7.7"
  }
 },
 "nbformat": 4,
 "nbformat_minor": 4
}
